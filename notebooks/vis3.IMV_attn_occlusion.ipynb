{
 "cells": [
  {
   "cell_type": "markdown",
   "id": "e9dc53ff-7e3e-4c54-b839-f3717ef154dc",
   "metadata": {},
   "source": [
    "First run `scripts/IMV_vis.py` to generate pickle with attn scores + images\n",
    "\n",
    "Then run `scripts/attn_occlusion.py`to generate pickles with occlusion scores"
   ]
  },
  {
   "cell_type": "code",
   "execution_count": 54,
   "id": "3fa439bb-cf97-4590-b746-66b057f4fead",
   "metadata": {},
   "outputs": [],
   "source": [
    "from collections import defaultdict\n",
    "import pickle, os\n",
    "import numpy as np"
   ]
  },
  {
   "cell_type": "code",
   "execution_count": 73,
   "id": "871a0843-11fe-4146-b3ae-e3efb8964ffe",
   "metadata": {},
   "outputs": [],
   "source": [
    "with open(\"../artifact/attn_occl/3565/attn_occlusion.pl\", \"rb\") as f:\n",
    "    occl = pickle.load(f)"
   ]
  },
  {
   "cell_type": "code",
   "execution_count": 75,
   "id": "b3aab583-a264-45ba-9476-dfa10a1af098",
   "metadata": {},
   "outputs": [],
   "source": [
    "pos_correlate = {}\n",
    "neg_correlate = {}\n",
    "for record in occl.values():\n",
    "    L, R, label, id = record\n",
    "    for LR_str, LR in zip(['L', 'R'], [L, R]):\n",
    "        for starting, (subseq, diff) in LR.items():\n",
    "            d = pos_correlate if diff > 0 else neg_correlate\n",
    "            d[(id, LR_str)] = (starting, subseq, diff, label)"
   ]
  },
  {
   "cell_type": "code",
   "execution_count": 76,
   "id": "f44c3a3b-893a-4dcb-99ae-52babf171930",
   "metadata": {},
   "outputs": [
    {
     "data": {
      "text/plain": [
       "{56: (['p', 'p', 'h', 'k', 'c', 'g', 'g', 'p', 'p', 'c', 'p'],\n",
       "  5.21540641784668e-07),\n",
       " 82: (['h', 'k', 'c', 'p', 'g', 'p', 'p', 'p', 'p', 'p'],\n",
       "  7.301568984985352e-07),\n",
       " 96: (['h', 'h', 'h', 'h', 'k', 'c', 'c', 'p', 'p', 'p', 'r'],\n",
       "  3.725290298461914e-08),\n",
       " 108: (['p', 'p', 'p', 'p', 'p'], 8.344650268554688e-07),\n",
       " 127: (['p', 'p', 'p', 'c', 'p', 'a'], 6.705522537231445e-07),\n",
       " 134: (['w', 'r', 'k', 'r'], -8.195638656616211e-08),\n",
       " 142: (['p', 'g', 'p', 'p'], 4.6193599700927734e-07),\n",
       " 169: (['p', 'p', 'p', 'p', 'g'], 6.332993507385254e-07),\n",
       " 208: (['p', 'g', 'c', 'c'], 1.043081283569336e-07),\n",
       " 213: (['p', 'c', 'p', 'p', 'g'], 4.544854164123535e-07),\n",
       " 219: (['g', 'w', 'p'], 1.4901161193847656e-07),\n",
       " 242: (['p', 'p', 'p', 'g', 'a'], 4.6938657760620117e-07),\n",
       " 254: (['p', 'p', 'p'], 4.991888999938965e-07),\n",
       " 258: (['p', 'c', 'p', 'p', 'p', 'p', 'g', 'i'], 7.450580596923828e-07),\n",
       " 273: (['p', 'p', 'p', 'p', 'p', 'g', 'p', 'p', 'p', 'p'],\n",
       "  1.475214958190918e-06),\n",
       " 298: (['p', 'g', 'c', 'p', 'p', 'p', 'p', 'p', 'c', 'p'],\n",
       "  1.1026859283447266e-06)}"
      ]
     },
     "execution_count": 76,
     "metadata": {},
     "output_type": "execute_result"
    }
   ],
   "source": [
    "L"
   ]
  },
  {
   "cell_type": "markdown",
   "id": "f457f8f8-739b-441b-8bda-99d828653400",
   "metadata": {},
   "source": [
    "Most salient subsequence related to label 1\n",
    "\n",
    "Generally p is mostly related to positive recovery"
   ]
  },
  {
   "cell_type": "code",
   "execution_count": 33,
   "id": "ab1703b9-ed1e-4734-bb3d-5d974dc86e9c",
   "metadata": {},
   "outputs": [
    {
     "name": "stdout",
     "output_type": "stream",
     "text": [
      "P-383[label=1], starting at 40 = ['p', 'p', 'p', 'c', 'p', 'p', 'w'], delta=1.3388693332672119e-05\n",
      "P-037[label=0], starting at 324 = ['p', 'p', 'c', 'p', 'p'], delta=1.3485550880432129e-05\n",
      "P-059[label=0], starting at 865 = ['p', 'p', 'p', 'p', 'p', 'p', 'c', 'p', 'p', 'c', 'p', 'p', 'p', 'c', 'p', 'p'], delta=1.3649463653564453e-05\n",
      "P-255[label=0], starting at 383 = ['p', 'p', 'c', 'c', 'a', 'g', 'p', 'c', 'p', 'p', 'p'], delta=1.5661120414733887e-05\n",
      "P-047[label=1], starting at 310 = ['p', 'p', 'p'], delta=1.6905367374420166e-05\n",
      "P-122[label=0], starting at 287 = ['p', 'p', 'c', 'c', 'c', 'p', 'p', 'p', 'p'], delta=1.7113983631134033e-05\n",
      "P-005[label=1], starting at 284 = ['p', 'p', 'c', 'p', 'p', 'p', 'p', 'p'], delta=1.870095729827881e-05\n",
      "P-368[label=1], starting at 261 = ['p', 'p', 'p', 'p', 'p', 'p'], delta=1.9028782844543457e-05\n",
      "P-383[label=1], starting at 121 = ['p', 'p', 'p', 'p', 'p'], delta=1.9669532775878906e-05\n",
      "P-091[label=0], starting at 104 = ['p', 'p', 'p', 'p', 'p'], delta=1.9960105419158936e-05\n"
     ]
    }
   ],
   "source": [
    "most_salient_keys = sorted(pos_correlate, key=lambda k: pos_correlate[k][2])[-10:]\n",
    "for (id, LR_str) in most_salient_keys:\n",
    "    starting, subseq, diff, label = pos_correlate[(id, LR_str)]\n",
    "    print(f\"{id}[label={label}], starting at {starting} = {subseq}, delta={diff}\")"
   ]
  },
  {
   "cell_type": "markdown",
   "id": "9b6f6e79-29f3-4e54-9bec-949b091af070",
   "metadata": {},
   "source": [
    "Most salient subsequence related to label 0\n",
    "\n",
    "Generally c, g, p together with c is mostly related to negative non-recovery"
   ]
  },
  {
   "cell_type": "code",
   "execution_count": 40,
   "id": "b398ca5a-d0ec-4cfe-abf2-d0c1a0e78cee",
   "metadata": {},
   "outputs": [
    {
     "name": "stdout",
     "output_type": "stream",
     "text": [
      "P-111[label=1], starting at 123 = ['c', 'c', 'c'], delta=-1.862645149230957e-05\n",
      "P-314[label=1], starting at 104 = ['p', 'c', 'i'], delta=-1.3105571269989014e-05\n",
      "P-090[label=0], starting at 57 = ['g', 'g', 'g'], delta=-1.0639429092407227e-05\n",
      "P-051[label=0], starting at 101 = ['c', 'c', 'c', 'p', 'c'], delta=-1.0542571544647217e-05\n",
      "P-088[label=1], starting at 38 = ['other', 'other', 'other', 'other', 'other', 'other', 'other', 'other', 'other', 'other', 'other', 'other', 'g', 'k', 'l', 'c', 'c'], delta=-6.712973117828369e-06\n",
      "P-383[label=1], starting at 34 = ['p', 'p', 'p', 'p', 'p'], delta=-3.375113010406494e-06\n",
      "P-158[label=1], starting at 255 = ['p', 'p', 'c', 'c'], delta=-3.1888484954833984e-06\n",
      "P-015[label=1], starting at 112 = ['p', 'p', 'p', 'p', 'p', 'p', 'p', 'p', 'p', 'p', 'p', 'p', 'p'], delta=-2.9727816581726074e-06\n",
      "P-090[label=0], starting at 117 = ['o', 'p', 'p', 'p', 'g', 'p', 'p', 'g', 'p', 'g', 'p', 'g', 'g', 'p', 'p', 'p', 'p', 'p', 'p'], delta=-2.9280781745910645e-06\n",
      "P-141[label=1], starting at 486 = ['p', 'p', 'p', 'p', 'p', 'r', 'p', 'p', 'c', 'c', 'p', 'p', 'p', 'i'], delta=-2.7865171432495117e-06\n"
     ]
    }
   ],
   "source": [
    "most_salient_keys = sorted(neg_correlate, key=lambda k: neg_correlate[k][2])[:10]\n",
    "for (id, LR_str) in most_salient_keys:\n",
    "    starting, subseq, diff, label = neg_correlate[(id, LR_str)]\n",
    "    print(f\"{id}[label={label}], starting at {starting} = {subseq}, delta={diff}\")"
   ]
  },
  {
   "cell_type": "markdown",
   "id": "1d2b39f9-87f4-4d78-a339-2f208aa49753",
   "metadata": {},
   "source": [
    "Calculate intra-model L2 distance between attention scores"
   ]
  },
  {
   "cell_type": "code",
   "execution_count": 60,
   "id": "e1ed60f7-fcfb-4c38-a0c3-878090c642c7",
   "metadata": {},
   "outputs": [],
   "source": [
    "As = [3565, 3568]\n",
    "Bs = [3669, 3681]"
   ]
  },
  {
   "cell_type": "code",
   "execution_count": 61,
   "id": "45a1d5ad-ad2d-4c7e-a4fc-fd2cc5977463",
   "metadata": {},
   "outputs": [],
   "source": [
    "A_scores = []\n",
    "for A in As:\n",
    "    dir = f\"/home/jiashu/seq/artifact/IMV/{A}\"\n",
    "    scores = {}\n",
    "    for p in os.listdir(dir):\n",
    "        if p.endswith(\".pkl\"):\n",
    "            with open(f\"{dir}/{p}\", \"rb\") as f:\n",
    "                scores[p] = pickle.load(f)\n",
    "    A_scores.append(scores)"
   ]
  },
  {
   "cell_type": "code",
   "execution_count": 71,
   "id": "47adb1a4-f293-4877-a859-646eb5c4a829",
   "metadata": {},
   "outputs": [
    {
     "data": {
      "text/plain": [
       "(6.147339891526826e-05, 5.318198702752852e-05)"
      ]
     },
     "execution_count": 71,
     "metadata": {},
     "output_type": "execute_result"
    }
   ],
   "source": [
    "A1, A2 = A_scores\n",
    "L_score, R_score = 0, 0\n",
    "for cid in A1.keys():\n",
    "    L1, L2 = A1[cid][\"L\"].view(-1).numpy() * 1000, A2[cid][\"L\"].view(-1).numpy() * 1000\n",
    "    R1, R2 = A1[cid][\"R\"].view(-1).numpy() * 1000, A2[cid][\"R\"].view(-1).numpy() * 1000\n",
    "    L_score += np.sum((L1 - L2)**2)\n",
    "    R_score += np.sum((R1 - R2)**2)\n",
    "L_score, R_score"
   ]
  },
  {
   "cell_type": "code",
   "execution_count": 63,
   "id": "045ef5a7-4359-4a28-b72a-2a2487d04c42",
   "metadata": {},
   "outputs": [],
   "source": [
    "B_scores = []\n",
    "for B in Bs:\n",
    "    dir = f\"/home/jiashu/seq/artifact/IMV/{B}\"\n",
    "    scores = {}\n",
    "    for p in os.listdir(dir):\n",
    "        if p.endswith(\".pkl\"):\n",
    "            with open(f\"{dir}/{p}\", \"rb\") as f:\n",
    "                scores[p] = pickle.load(f)\n",
    "    B_scores.append(scores)"
   ]
  },
  {
   "cell_type": "code",
   "execution_count": 72,
   "id": "d4ccc4ee-d5cb-4b8a-b882-b82b461df44f",
   "metadata": {},
   "outputs": [
    {
     "data": {
      "text/plain": [
       "(6.9016566044410865e-06, 5.832266907646044e-06)"
      ]
     },
     "execution_count": 72,
     "metadata": {},
     "output_type": "execute_result"
    }
   ],
   "source": [
    "B1, B2 = B_scores\n",
    "L_score, R_score = 0, 0\n",
    "for cid in B1.keys():\n",
    "    L1, L2 = B1[cid][\"L\"].view(-1).numpy() * 1000, B2[cid][\"L\"].view(-1).numpy() * 1000\n",
    "    R1, R2 = B1[cid][\"R\"].view(-1).numpy() * 1000, B2[cid][\"R\"].view(-1).numpy() * 1000\n",
    "    L_score += np.sum((L1 - L2)**2)\n",
    "    R_score += np.sum((R1 - R2)**2)\n",
    "L_score, R_score"
   ]
  },
  {
   "cell_type": "markdown",
   "id": "484e1e47-a1ee-4164-9440-c7a96021af0d",
   "metadata": {},
   "source": [
    "Calculate inter-model L2 distance between attention scores"
   ]
  },
  {
   "cell_type": "code",
   "execution_count": 70,
   "id": "e0098f1a-8f85-409c-906c-ea091c4f241b",
   "metadata": {},
   "outputs": [
    {
     "data": {
      "text/plain": [
       "(0.0006732156912221399, 0.0005699915095647157)"
      ]
     },
     "execution_count": 70,
     "metadata": {},
     "output_type": "execute_result"
    }
   ],
   "source": [
    "A1, A2 = A_scores\n",
    "B1, B2 = B_scores\n",
    "\n",
    "L_score, R_score = 0, 0\n",
    "for cid in A1.keys():\n",
    "    L1, L2 = A1[cid][\"L\"].view(-1).numpy() * 1000, A2[cid][\"L\"].view(-1).numpy() * 1000\n",
    "    L3, L4 = B1[cid][\"L\"].view(-1).numpy() * 1000, B2[cid][\"L\"].view(-1).numpy() * 1000\n",
    "    R1, R2 = A1[cid][\"R\"].view(-1).numpy() * 1000, A2[cid][\"R\"].view(-1).numpy() * 1000\n",
    "    R3, R4 = B1[cid][\"R\"].view(-1).numpy() * 1000, B2[cid][\"R\"].view(-1).numpy() * 1000\n",
    "    \n",
    "    L_score += np.sum((L1 - L3)**2)\n",
    "    R_score += np.sum((R1 - R3)**2)\n",
    "L_score, R_score"
   ]
  }
 ],
 "metadata": {
  "kernelspec": {
   "display_name": "meta",
   "language": "python",
   "name": "meta"
  },
  "language_info": {
   "codemirror_mode": {
    "name": "ipython",
    "version": 3
   },
   "file_extension": ".py",
   "mimetype": "text/x-python",
   "name": "python",
   "nbconvert_exporter": "python",
   "pygments_lexer": "ipython3",
   "version": "3.8.11"
  }
 },
 "nbformat": 4,
 "nbformat_minor": 5
}
