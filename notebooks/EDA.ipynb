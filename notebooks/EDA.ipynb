{
 "cells": [
  {
   "cell_type": "code",
   "execution_count": null,
   "metadata": {},
   "outputs": [
    {
     "ename": "",
     "evalue": "",
     "output_type": "error",
     "traceback": [
      "\u001b[1;31mThe kernel failed to start due to the missing module 'ipykernel_launcher'. Consider installing this module. \n",
      "View Jupyter <a href='command:jupyter.viewOutput'>log</a> for further details.\n",
      "<a href='https://aka.ms/kernelFailuresMissingModule'>Learn more</a>"
     ]
    }
   ],
   "source": [
    "import glob\n",
    "import pandas as pd\n",
    "import pickle, os\n",
    "from pathlib import Path\n",
    "from collections import defaultdict\n",
    "import numpy as np\n",
    "from xgboost import XGBClassifier\n",
    "import matplotlib.pyplot as plt"
   ]
  },
  {
   "cell_type": "code",
   "execution_count": 17,
   "metadata": {},
   "outputs": [
    {
     "data": {
      "image/png": "[encoded data removed]",
      "text/plain": [
       "<Figure size 432x288 with 1 Axes>"
      ]
     },
     "metadata": {
      "needs_background": "light"
     },
     "output_type": "display_data"
    }
   ],
   "source": [
    "\n",
    "data_dir = Path(\"/home/jiashu/seq/raw_data\")\n",
    "processed_data_dir = Path(\"/home/jiashu/seq/processed/train30_test10\")\n",
    "\n",
    "df = pd.read_excel(\n",
    "    data_dir / \"Dissection Gesture_Clinical Data.xlsx\", engine='openpyxl',\n",
    ")\n",
    "\n",
    "df['Nerve Sparing'] = df['Nerve Sparing'].apply(\n",
    "    lambda val: 1 if val == 'full' else 0\n",
    ")\n",
    "y = df['ESI @ 12 mo']\n",
    "X = df.drop([\"Case ID\", \"Surgeon ID\", \"Pre-Op SHIM\", 'ESI @ 12 mo'], axis=1)\n",
    "\n",
    "feature_importances = np.zeros(len(X.columns), dtype=float)\n",
    "for k in range(4):\n",
    "    xgb = XGBClassifier()\n",
    "    xgb.load_model(f\"/home/jiashu/seq/selected_ckpt/xgboost/client-k{k}.json\")\n",
    "    feature_importances += xgb.feature_importances_\n",
    "\n",
    "feature_names = X.columns\n",
    "feature_importances = feature_importances / len(X.columns)\n",
    "sorted_idxs = feature_importances.argsort()\n",
    "plt.figure()\n",
    "plt.barh(\n",
    "    feature_names[sorted_idxs],\n",
    "    feature_importances[sorted_idxs]\n",
    ")\n",
    "plt.savefig(\"/home/jiashu/seq/artifact/xgboost/avg.png\",bbox_inches=\"tight\",dpi=200)"
   ]
  },
  {
   "cell_type": "code",
   "execution_count": 18,
   "metadata": {},
   "outputs": [
    {
     "data": {
      "text/plain": [
       "Index(['Age', 'BMI', 'CCI', 'PSA', 'Pre-op Gleason', 'ASA', 'Nerve Sparing',\n",
       "       'Prostate volume (g)', 'Post-op Gleason', 'ECE',\n",
       "       'Radiation after surgery 1=Yes, 0=No', 'Postop ADT'],\n",
       "      dtype='object')"
      ]
     },
     "execution_count": 18,
     "metadata": {},
     "output_type": "execute_result"
    }
   ],
   "source": [
    "X.columns"
   ]
  },
  {
   "cell_type": "code",
   "execution_count": 2,
   "metadata": {},
   "outputs": [
    {
     "name": "stderr",
     "output_type": "stream",
     "text": [
      "/home/jiashu/.conda/envs/meta/lib/python3.7/site-packages/ipykernel_launcher.py:5: FutureWarning: Your version of xlrd is 1.2.0. In xlrd >= 2.0, only the xls format is supported. As a result, the openpyxl engine will be used if it is installed and the engine argument is not specified. Install openpyxl instead.\n",
      "  \"\"\"\n"
     ]
    }
   ],
   "source": [
    "work_dir = \"/home/jiashu/seq\"\n",
    "data_dir = \"/home/jiashu/seq/raw_data\"\n",
    "data_dir = Path(data_dir)\n",
    "\n",
    "meta = pd.read_excel(data_dir / \"clinical data.xlsx\")"
   ]
  },
  {
   "cell_type": "code",
   "execution_count": 9,
   "metadata": {},
   "outputs": [
    {
     "data": {
      "text/plain": [
       "ESI @ 12 mo\n",
       "0    3.521739\n",
       "1    3.388889\n",
       "dtype: float64"
      ]
     },
     "execution_count": 9,
     "metadata": {},
     "output_type": "execute_result"
    }
   ],
   "source": [
    "meta.groupby(\"ESI @ 12 mo\").mean().sum(1)"
   ]
  },
  {
   "cell_type": "code",
   "execution_count": 13,
   "metadata": {},
   "outputs": [
    {
     "data": {
      "text/plain": [
       "Case ID                                            P-002P-005P-015P-047P-050P-061P-072P-088P-103P...\n",
       "Nerve Sparing- Left (0=no, 1=partial, 2= full)                                                    29\n",
       "Nerve Sparing- Right (0=no, 1=partial, 2= full)                                                   32\n",
       "ESI @ 12 mo                                                                                       18\n",
       "dtype: object"
      ]
     },
     "execution_count": 13,
     "metadata": {},
     "output_type": "execute_result"
    }
   ],
   "source": [
    "meta[meta[\"ESI @ 12 mo\"] == 1].sum(0)"
   ]
  },
  {
   "cell_type": "code",
   "execution_count": 4,
   "metadata": {},
   "outputs": [],
   "source": [
    "k_dir = \"/home/jiashu/seq/processed\"\n",
    "d = {}\n",
    "for k in range(5):\n",
    "    with open(os.path.join(k_dir, f\"k{k}\", \"test.pkl\"), \"rb\") as f:\n",
    "        seq = pickle.load(f)\n",
    "    d[k] = seq"
   ]
  },
  {
   "cell_type": "code",
   "execution_count": 6,
   "metadata": {},
   "outputs": [
    {
     "name": "stdout",
     "output_type": "stream",
     "text": [
      "0 -> [4, 1, 4, 4, 3, 4, 3, 2]\n",
      "1 -> [4, 4, 4, 2, 4, 4, 4, 1]\n",
      "2 -> [4, 4, 4, 2, 4, 4, 4, 1]\n",
      "3 -> [4, 4, 4, 2, 4, 4, 4, 1]\n",
      "4 -> [4, 4, 4, 2, 4, 4, 4, 1]\n"
     ]
    }
   ],
   "source": [
    "for k, seq in d.items():\n",
    "    s = [\n",
    "        data[\"L\"][\"Nerve Sparing\"] + data[\"R\"][\"Nerve Sparing\"]\n",
    "        for case, data in seq.items()\n",
    "    ]\n",
    "    print(f\"{k} -> {s}\")"
   ]
  },
  {
   "cell_type": "code",
   "execution_count": null,
   "metadata": {},
   "outputs": [],
   "source": []
  },
  {
   "cell_type": "code",
   "execution_count": 19,
   "metadata": {},
   "outputs": [],
   "source": [
    "with open(\"/home/jiashu/seq/processed_data/seq.pl\", \"rb\") as f:\n",
    "    seqs = pickle.load(f)"
   ]
  },
  {
   "cell_type": "code",
   "execution_count": 39,
   "metadata": {},
   "outputs": [],
   "source": [
    "has_scores = []\n",
    "for caseid, seq in seqs.items():\n",
    "    if \"scores\" in seq:\n",
    "        has_scores.append((caseid, seq[\"label\"]))"
   ]
  },
  {
   "cell_type": "code",
   "execution_count": 41,
   "metadata": {},
   "outputs": [],
   "source": [
    "pos_scores = np.array([\n",
    "    np.array(list(seqs[caseid][\"scores\"].values()))\n",
    "    for caseid,label in has_scores \n",
    "    if label == 1\n",
    "])\n",
    "\n",
    "neg_scores = np.array([\n",
    "    np.array(list(seqs[caseid][\"scores\"].values()))\n",
    "    for caseid,label in has_scores \n",
    "    if label == 0\n",
    "])"
   ]
  },
  {
   "cell_type": "code",
   "execution_count": 44,
   "metadata": {},
   "outputs": [
    {
     "data": {
      "text/plain": [
       "(array([2.96, 3.  , 2.92, 2.59, 2.76]),\n",
       " array([2.80454545, 3.        , 2.94090909, 2.82727273, 2.62727273]))"
      ]
     },
     "execution_count": 44,
     "metadata": {},
     "output_type": "execute_result"
    }
   ],
   "source": [
    "pos_scores.mean(0), neg_scores.mean(0)"
   ]
  },
  {
   "cell_type": "code",
   "execution_count": 28,
   "metadata": {},
   "outputs": [
    {
     "data": {
      "text/plain": [
       "[('P-321', 0),\n",
       " ('P-004', 0),\n",
       " ('P-008', 0),\n",
       " ('P-015', 1),\n",
       " ('P-030', 0),\n",
       " ('P-040', 0),\n",
       " ('P-047', 1),\n",
       " ('P-050', 1),\n",
       " ('P-002', 1),\n",
       " ('P-026', 0),\n",
       " ('P-007', 0),\n",
       " ('P-037', 0),\n",
       " ('P-042', 0),\n",
       " ('P-049', 0),\n",
       " ('P-005', 1),\n",
       " ('P-046', 0)]"
      ]
     },
     "execution_count": 28,
     "metadata": {},
     "output_type": "execute_result"
    }
   ],
   "source": [
    "has_scores"
   ]
  },
  {
   "cell_type": "code",
   "execution_count": 23,
   "metadata": {},
   "outputs": [],
   "source": [
    "caseid = 'P-321'\n",
    "seq = seqs[caseid]"
   ]
  },
  {
   "cell_type": "code",
   "execution_count": null,
   "metadata": {},
   "outputs": [],
   "source": []
  },
  {
   "cell_type": "code",
   "execution_count": 25,
   "metadata": {},
   "outputs": [
    {
     "data": {
      "text/plain": [
       "{'ave_gs': 2.75, 'ave_iva': 3, 'ave_rtp': 3.0, 'ave_th': 3.0, 'ave_tr': 2.75}"
      ]
     },
     "execution_count": 25,
     "metadata": {},
     "output_type": "execute_result"
    }
   ],
   "source": [
    "seq['scores']"
   ]
  },
  {
   "cell_type": "code",
   "execution_count": 24,
   "metadata": {},
   "outputs": [
    {
     "data": {
      "text/plain": [
       "(dict_keys(['L', 'R', 'scores', 'label']),\n",
       " dict_keys(['Gesture', 'Arm', 'Note', 'Nerve Sparing']))"
      ]
     },
     "execution_count": 24,
     "metadata": {},
     "output_type": "execute_result"
    }
   ],
   "source": [
    "seq.keys(), seq[\"L\"].keys()"
   ]
  },
  {
   "cell_type": "code",
   "execution_count": 14,
   "metadata": {},
   "outputs": [
    {
     "data": {
      "text/plain": [
       "330"
      ]
     },
     "execution_count": 14,
     "metadata": {},
     "output_type": "execute_result"
    }
   ],
   "source": [
    "len(seq[\"L\"][\"Gesture\"])"
   ]
  },
  {
   "cell_type": "code",
   "execution_count": 15,
   "metadata": {},
   "outputs": [
    {
     "data": {
      "text/plain": [
       "227"
      ]
     },
     "execution_count": 15,
     "metadata": {},
     "output_type": "execute_result"
    }
   ],
   "source": [
    "len(seq[\"R\"][\"Gesture\"])"
   ]
  },
  {
   "cell_type": "code",
   "execution_count": 21,
   "metadata": {},
   "outputs": [],
   "source": [
    "path = \"/home/jiashu/seq/processed/train30_test10/k0\"\n",
    "out = \"/home/jiashu/seq/artifact/gesture_analysis/case_gesture_freq\"\n",
    "with open(f\"{path}/train_processed.pkl\", \"rb\") as f:\n",
    "    seq = pickle.load(f)\n",
    "\n",
    "with open(f\"{path}/valid_processed.pkl\", \"rb\") as f:\n",
    "    seq2 = pickle.load(f)\n",
    "gesture_mapping = {}\n",
    "with open(f\"/home/jiashu/seq/processed/train30_test10/k0/gesture_mapping.txt\") as f:\n",
    "    for line in f:\n",
    "        gesture, gid = line.rstrip().split(\"->\")\n",
    "        gesture_mapping[int(gid)] = gesture\n",
    "seq = {\n",
    "    **seq, **seq2\n",
    "}"
   ]
  },
  {
   "cell_type": "code",
   "execution_count": 26,
   "metadata": {},
   "outputs": [],
   "source": [
    "for case in seq:\n",
    "    L, R = seq[case][\"L\"]['gesture'], seq[case][\"R\"]['gesture']\n",
    "    L = [\n",
    "            gesture_mapping[g]\n",
    "            for i, g in enumerate(L)\n",
    "        ]\n",
    "\n",
    "    R = [\n",
    "            gesture_mapping[g]\n",
    "            for i, g in enumerate(R)\n",
    "        ]\n",
    "    from collections import Counter\n",
    "    cL, cR = Counter(L), Counter(R)\n",
    "    with open(f\"{out}/{case}.txt\", \"w\") as f:\n",
    "        f.write(\"case id :: Left or Right \\n\")\n",
    "        f.write(\"\\tgesture\\tcounts\\n\")\n",
    "        for LR, counter in zip([\"L\", \"R\"], [cL, cR]):\n",
    "            f.write(f\"{case}::{LR}\\n\")\n",
    "            for gesture, ct in counter.most_common():\n",
    "                f.write(f\"\\t{gesture}\\t{ct}\\n\")"
   ]
  },
  {
   "cell_type": "code",
   "execution_count": 25,
   "metadata": {},
   "outputs": [
    {
     "data": {
      "text/plain": [
       "[('c', 102),\n",
       " ('p', 96),\n",
       " ('r', 51),\n",
       " ('m', 47),\n",
       " ('s', 15),\n",
       " ('a', 7),\n",
       " ('g', 7),\n",
       " ('h', 6),\n",
       " ('t', 4),\n",
       " ('k', 3),\n",
       " ('other', 1),\n",
       " ('w', 1)]"
      ]
     },
     "execution_count": 25,
     "metadata": {},
     "output_type": "execute_result"
    }
   ],
   "source": [
    "cL.most_common()"
   ]
  }
 ],
 "metadata": {
  "interpreter": {
   "hash": "cd71c634475d3ac0b83268ca0a0dec035bae39f5a8a72999ffc67eb590dc2269"
  },
  "kernelspec": {
   "display_name": "meta",
   "language": "python",
   "name": "meta"
  },
  "language_info": {
   "codemirror_mode": {
    "name": "ipython",
    "version": 3
   },
   "file_extension": ".py",
   "mimetype": "text/x-python",
   "name": "python",
   "nbconvert_exporter": "python",
   "pygments_lexer": "ipython3",
   "version": "3.8.11"
  }
 },
 "nbformat": 4,
 "nbformat_minor": 4
}
