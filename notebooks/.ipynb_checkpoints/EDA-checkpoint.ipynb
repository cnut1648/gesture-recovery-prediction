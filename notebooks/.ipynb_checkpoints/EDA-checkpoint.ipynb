{
 "cells": [
  {
   "cell_type": "code",
   "execution_count": 2,
   "source": [
    "import glob\n",
    "import pandas as pd\n",
    "import pickle, os\n",
    "from pathlib import Path\n",
    "from collections import defaultdict\n",
    "import numpy as np"
   ],
   "outputs": [],
   "metadata": {}
  },
  {
   "cell_type": "code",
   "execution_count": 2,
   "source": [
    "work_dir = \"/home/jiashu/seq\"\n",
    "data_dir = \"/home/jiashu/seq/raw_data\"\n",
    "data_dir = Path(data_dir)\n",
    "\n",
    "meta = pd.read_excel(data_dir / \"clinical data.xlsx\")"
   ],
   "outputs": [
    {
     "output_type": "stream",
     "name": "stderr",
     "text": [
      "/home/jiashu/.conda/envs/meta/lib/python3.7/site-packages/ipykernel_launcher.py:5: FutureWarning: Your version of xlrd is 1.2.0. In xlrd >= 2.0, only the xls format is supported. As a result, the openpyxl engine will be used if it is installed and the engine argument is not specified. Install openpyxl instead.\n",
      "  \"\"\"\n"
     ]
    }
   ],
   "metadata": {}
  },
  {
   "cell_type": "code",
   "execution_count": 9,
   "source": [
    "meta.groupby(\"ESI @ 12 mo\").mean().sum(1)"
   ],
   "outputs": [
    {
     "output_type": "execute_result",
     "data": {
      "text/plain": [
       "ESI @ 12 mo\n",
       "0    3.521739\n",
       "1    3.388889\n",
       "dtype: float64"
      ]
     },
     "metadata": {},
     "execution_count": 9
    }
   ],
   "metadata": {}
  },
  {
   "cell_type": "code",
   "execution_count": 13,
   "source": [
    "meta[meta[\"ESI @ 12 mo\"] == 1].sum(0)"
   ],
   "outputs": [
    {
     "output_type": "execute_result",
     "data": {
      "text/plain": [
       "Case ID                                            P-002P-005P-015P-047P-050P-061P-072P-088P-103P...\n",
       "Nerve Sparing- Left (0=no, 1=partial, 2= full)                                                    29\n",
       "Nerve Sparing- Right (0=no, 1=partial, 2= full)                                                   32\n",
       "ESI @ 12 mo                                                                                       18\n",
       "dtype: object"
      ]
     },
     "metadata": {},
     "execution_count": 13
    }
   ],
   "metadata": {}
  },
  {
   "cell_type": "code",
   "execution_count": 4,
   "source": [
    "k_dir = \"/home/jiashu/seq/processed\"\n",
    "d = {}\n",
    "for k in range(5):\n",
    "    with open(os.path.join(k_dir, f\"k{k}\", \"test.pkl\"), \"rb\") as f:\n",
    "        seq = pickle.load(f)\n",
    "    d[k] = seq"
   ],
   "outputs": [],
   "metadata": {}
  },
  {
   "cell_type": "code",
   "execution_count": 6,
   "source": [
    "for k, seq in d.items():\n",
    "    s = [\n",
    "        data[\"L\"][\"Nerve Sparing\"] + data[\"R\"][\"Nerve Sparing\"]\n",
    "        for case, data in seq.items()\n",
    "    ]\n",
    "    print(f\"{k} -> {s}\")"
   ],
   "outputs": [
    {
     "output_type": "stream",
     "name": "stdout",
     "text": [
      "0 -> [4, 1, 4, 4, 3, 4, 3, 2]\n",
      "1 -> [4, 4, 4, 2, 4, 4, 4, 1]\n",
      "2 -> [4, 4, 4, 2, 4, 4, 4, 1]\n",
      "3 -> [4, 4, 4, 2, 4, 4, 4, 1]\n",
      "4 -> [4, 4, 4, 2, 4, 4, 4, 1]\n"
     ]
    }
   ],
   "metadata": {}
  },
  {
   "cell_type": "code",
   "execution_count": null,
   "source": [],
   "outputs": [],
   "metadata": {}
  },
  {
   "cell_type": "code",
   "execution_count": 19,
   "source": [
    "with open(\"/home/jiashu/seq/processed_data/seq.pl\", \"rb\") as f:\n",
    "    seqs = pickle.load(f)"
   ],
   "outputs": [],
   "metadata": {}
  },
  {
   "cell_type": "code",
   "execution_count": 39,
   "source": [
    "has_scores = []\n",
    "for caseid, seq in seqs.items():\n",
    "    if \"scores\" in seq:\n",
    "        has_scores.append((caseid, seq[\"label\"]))"
   ],
   "outputs": [],
   "metadata": {}
  },
  {
   "cell_type": "code",
   "execution_count": 41,
   "source": [
    "pos_scores = np.array([\n",
    "    np.array(list(seqs[caseid][\"scores\"].values()))\n",
    "    for caseid,label in has_scores \n",
    "    if label == 1\n",
    "])\n",
    "\n",
    "neg_scores = np.array([\n",
    "    np.array(list(seqs[caseid][\"scores\"].values()))\n",
    "    for caseid,label in has_scores \n",
    "    if label == 0\n",
    "])"
   ],
   "outputs": [],
   "metadata": {}
  },
  {
   "cell_type": "code",
   "execution_count": 44,
   "source": [
    "pos_scores.mean(0), neg_scores.mean(0)"
   ],
   "outputs": [
    {
     "output_type": "execute_result",
     "data": {
      "text/plain": [
       "(array([2.96, 3.  , 2.92, 2.59, 2.76]),\n",
       " array([2.80454545, 3.        , 2.94090909, 2.82727273, 2.62727273]))"
      ]
     },
     "metadata": {},
     "execution_count": 44
    }
   ],
   "metadata": {}
  },
  {
   "cell_type": "code",
   "execution_count": 28,
   "source": [
    "has_scores"
   ],
   "outputs": [
    {
     "output_type": "execute_result",
     "data": {
      "text/plain": [
       "[('P-321', 0),\n",
       " ('P-004', 0),\n",
       " ('P-008', 0),\n",
       " ('P-015', 1),\n",
       " ('P-030', 0),\n",
       " ('P-040', 0),\n",
       " ('P-047', 1),\n",
       " ('P-050', 1),\n",
       " ('P-002', 1),\n",
       " ('P-026', 0),\n",
       " ('P-007', 0),\n",
       " ('P-037', 0),\n",
       " ('P-042', 0),\n",
       " ('P-049', 0),\n",
       " ('P-005', 1),\n",
       " ('P-046', 0)]"
      ]
     },
     "metadata": {},
     "execution_count": 28
    }
   ],
   "metadata": {}
  },
  {
   "cell_type": "code",
   "execution_count": 23,
   "source": [
    "caseid = 'P-321'\n",
    "seq = seqs[caseid]"
   ],
   "outputs": [],
   "metadata": {}
  },
  {
   "cell_type": "code",
   "execution_count": null,
   "source": [],
   "outputs": [],
   "metadata": {}
  },
  {
   "cell_type": "code",
   "execution_count": 25,
   "source": [
    "seq['scores']"
   ],
   "outputs": [
    {
     "output_type": "execute_result",
     "data": {
      "text/plain": [
       "{'ave_gs': 2.75, 'ave_iva': 3, 'ave_rtp': 3.0, 'ave_th': 3.0, 'ave_tr': 2.75}"
      ]
     },
     "metadata": {},
     "execution_count": 25
    }
   ],
   "metadata": {}
  },
  {
   "cell_type": "code",
   "execution_count": 24,
   "source": [
    "seq.keys(), seq[\"L\"].keys()"
   ],
   "outputs": [
    {
     "output_type": "execute_result",
     "data": {
      "text/plain": [
       "(dict_keys(['L', 'R', 'scores', 'label']),\n",
       " dict_keys(['Gesture', 'Arm', 'Note', 'Nerve Sparing']))"
      ]
     },
     "metadata": {},
     "execution_count": 24
    }
   ],
   "metadata": {}
  },
  {
   "cell_type": "code",
   "execution_count": 14,
   "source": [
    "len(seq[\"L\"][\"Gesture\"])"
   ],
   "outputs": [
    {
     "output_type": "execute_result",
     "data": {
      "text/plain": [
       "330"
      ]
     },
     "metadata": {},
     "execution_count": 14
    }
   ],
   "metadata": {}
  },
  {
   "cell_type": "code",
   "execution_count": 15,
   "source": [
    "len(seq[\"R\"][\"Gesture\"])"
   ],
   "outputs": [
    {
     "output_type": "execute_result",
     "data": {
      "text/plain": [
       "227"
      ]
     },
     "metadata": {},
     "execution_count": 15
    }
   ],
   "metadata": {}
  },
  {
   "cell_type": "code",
   "execution_count": null,
   "source": [],
   "outputs": [],
   "metadata": {}
  }
 ],
 "metadata": {
  "orig_nbformat": 4,
  "language_info": {
   "name": "python",
   "version": "3.7.10",
   "mimetype": "text/x-python",
   "codemirror_mode": {
    "name": "ipython",
    "version": 3
   },
   "pygments_lexer": "ipython3",
   "nbconvert_exporter": "python",
   "file_extension": ".py"
  },
  "kernelspec": {
   "name": "python3",
   "display_name": "Python 3.7.10 64-bit ('meta': conda)"
  },
  "interpreter": {
   "hash": "cd71c634475d3ac0b83268ca0a0dec035bae39f5a8a72999ffc67eb590dc2269"
  }
 },
 "nbformat": 4,
 "nbformat_minor": 2
}