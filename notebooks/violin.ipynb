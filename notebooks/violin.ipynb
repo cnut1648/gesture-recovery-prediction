{
 "cells": [
  {
   "cell_type": "code",
   "execution_count": 25,
   "metadata": {},
   "outputs": [],
   "source": [
    "import wandb\n",
    "import pandas as pd\n",
    "import numpy as np\n",
    "import seaborn as sns\n",
    "api = wandb.Api()\n"
   ]
  },
  {
   "cell_type": "code",
   "execution_count": 57,
   "metadata": {},
   "outputs": [],
   "source": [
    "metrics = []\n",
    "for run in api.runs(\n",
    "    \"cnut1648/seq\", filters={\"tags\": \"MC-ATTN\"}\n",
    "):\n",
    "    if \"valid/epoch/AUPRC\" in run.summary:\n",
    "        auprc = run.summary[\"valid/epoch/AUPRC\"]['best']\n",
    "    else:\n",
    "        auprc = np.nan\n",
    "    metrics.extend([\n",
    "        {\n",
    "            \"TYPE\": \"AUROC\",\n",
    "            \"METRIC\": run.summary[\"valid/epoch/AUROC\"]['best'],\n",
    "            \"TAG\": \"ATTN\"\n",
    "        },\n",
    "        {\n",
    "            \"TYPE\": \"AUPRC\",\n",
    "            \"METRIC\": auprc,\n",
    "            \"TAG\": \"ATTN\"\n",
    "        },\n",
    "    ])\n",
    "\n",
    "for run in api.runs(\n",
    "    \"cnut1648/seq\", filters={\"tags\": \"MC-COMB\"}\n",
    "):\n",
    "    if \"valid/epoch/AUPRC\" in run.summary:\n",
    "        auprc = run.summary[\"valid/epoch/AUPRC\"]['best']\n",
    "    else:\n",
    "        auprc = np.nan\n",
    "    metrics.extend([\n",
    "        {\n",
    "            \"TYPE\": \"AUROC\",\n",
    "            \"METRIC\": run.summary[\"valid/epoch/AUROC\"]['best'],\n",
    "            \"TAG\": \"COMB\"\n",
    "        },\n",
    "        {\n",
    "            \"TYPE\": \"AUPRC\",\n",
    "            \"METRIC\": auprc,\n",
    "            \"TAG\": \"COMB\"\n",
    "        },\n",
    "    ])\n",
    "\n"
   ]
  },
  {
   "cell_type": "code",
   "execution_count": 58,
   "metadata": {},
   "outputs": [],
   "source": [
    "clinical = pd.read_csv(\n",
    "    \"/home/jiashu/seq/scripts/clinic_only/19990615.txt\",\n",
    "    sep=\"\\t\", header=None, names=[\"AUROC\", \"AUPRC\"]\n",
    ").iloc[:100, :]\n",
    "for i, row in clinical.iterrows():\n",
    "    metrics.extend([\n",
    "        {\n",
    "            \"TYPE\": \"AUROC\",\n",
    "            \"METRIC\": row[\"AUROC\"],\n",
    "            \"TAG\": \"CLINICAL\"\n",
    "        },\n",
    "        {\n",
    "            \"TYPE\": \"AUPRC\",\n",
    "            \"METRIC\": row[\"AUPRC\"],\n",
    "            \"TAG\": \"CLINICAL\"\n",
    "        },\n",
    "    ])"
   ]
  },
  {
   "cell_type": "code",
   "execution_count": 62,
   "metadata": {},
   "outputs": [
    {
     "data": {
      "text/html": [
       "<div>\n",
       "<style scoped>\n",
       "    .dataframe tbody tr th:only-of-type {\n",
       "        vertical-align: middle;\n",
       "    }\n",
       "\n",
       "    .dataframe tbody tr th {\n",
       "        vertical-align: top;\n",
       "    }\n",
       "\n",
       "    .dataframe thead th {\n",
       "        text-align: right;\n",
       "    }\n",
       "</style>\n",
       "<table border=\"1\" class=\"dataframe\">\n",
       "  <thead>\n",
       "    <tr style=\"text-align: right;\">\n",
       "      <th></th>\n",
       "      <th>TYPE</th>\n",
       "      <th>METRIC</th>\n",
       "      <th>TAG</th>\n",
       "    </tr>\n",
       "  </thead>\n",
       "  <tbody>\n",
       "    <tr>\n",
       "      <th>0</th>\n",
       "      <td>AUROC</td>\n",
       "      <td>0.791667</td>\n",
       "      <td>ATTN</td>\n",
       "    </tr>\n",
       "    <tr>\n",
       "      <th>1</th>\n",
       "      <td>AUPRC</td>\n",
       "      <td>1.000000</td>\n",
       "      <td>ATTN</td>\n",
       "    </tr>\n",
       "    <tr>\n",
       "      <th>2</th>\n",
       "      <td>AUROC</td>\n",
       "      <td>0.800000</td>\n",
       "      <td>ATTN</td>\n",
       "    </tr>\n",
       "    <tr>\n",
       "      <th>3</th>\n",
       "      <td>AUPRC</td>\n",
       "      <td>0.803571</td>\n",
       "      <td>ATTN</td>\n",
       "    </tr>\n",
       "    <tr>\n",
       "      <th>4</th>\n",
       "      <td>AUROC</td>\n",
       "      <td>1.000000</td>\n",
       "      <td>ATTN</td>\n",
       "    </tr>\n",
       "    <tr>\n",
       "      <th>...</th>\n",
       "      <td>...</td>\n",
       "      <td>...</td>\n",
       "      <td>...</td>\n",
       "    </tr>\n",
       "    <tr>\n",
       "      <th>595</th>\n",
       "      <td>AUPRC</td>\n",
       "      <td>0.778571</td>\n",
       "      <td>CLINICAL</td>\n",
       "    </tr>\n",
       "    <tr>\n",
       "      <th>596</th>\n",
       "      <td>AUROC</td>\n",
       "      <td>0.583333</td>\n",
       "      <td>CLINICAL</td>\n",
       "    </tr>\n",
       "    <tr>\n",
       "      <th>597</th>\n",
       "      <td>AUPRC</td>\n",
       "      <td>0.758333</td>\n",
       "      <td>CLINICAL</td>\n",
       "    </tr>\n",
       "    <tr>\n",
       "      <th>598</th>\n",
       "      <td>AUROC</td>\n",
       "      <td>0.800000</td>\n",
       "      <td>CLINICAL</td>\n",
       "    </tr>\n",
       "    <tr>\n",
       "      <th>599</th>\n",
       "      <td>AUPRC</td>\n",
       "      <td>0.830833</td>\n",
       "      <td>CLINICAL</td>\n",
       "    </tr>\n",
       "  </tbody>\n",
       "</table>\n",
       "<p>600 rows × 3 columns</p>\n",
       "</div>"
      ],
      "text/plain": [
       "      TYPE    METRIC       TAG\n",
       "0    AUROC  0.791667      ATTN\n",
       "1    AUPRC  1.000000      ATTN\n",
       "2    AUROC  0.800000      ATTN\n",
       "3    AUPRC  0.803571      ATTN\n",
       "4    AUROC  1.000000      ATTN\n",
       "..     ...       ...       ...\n",
       "595  AUPRC  0.778571  CLINICAL\n",
       "596  AUROC  0.583333  CLINICAL\n",
       "597  AUPRC  0.758333  CLINICAL\n",
       "598  AUROC  0.800000  CLINICAL\n",
       "599  AUPRC  0.830833  CLINICAL\n",
       "\n",
       "[600 rows x 3 columns]"
      ]
     },
     "execution_count": 62,
     "metadata": {},
     "output_type": "execute_result"
    }
   ],
   "source": [
    "df = pd.DataFrame(metrics)\n",
    "df"
   ]
  },
  {
   "cell_type": "code",
   "execution_count": 68,
   "metadata": {},
   "outputs": [],
   "source": [
    "df.to_csv(\"data.csv\", index=False)"
   ]
  },
  {
   "cell_type": "code",
   "execution_count": 69,
   "metadata": {},
   "outputs": [
    {
     "data": {
      "text/html": [
       "<div>\n",
       "<style scoped>\n",
       "    .dataframe tbody tr th:only-of-type {\n",
       "        vertical-align: middle;\n",
       "    }\n",
       "\n",
       "    .dataframe tbody tr th {\n",
       "        vertical-align: top;\n",
       "    }\n",
       "\n",
       "    .dataframe thead th {\n",
       "        text-align: right;\n",
       "    }\n",
       "</style>\n",
       "<table border=\"1\" class=\"dataframe\">\n",
       "  <thead>\n",
       "    <tr style=\"text-align: right;\">\n",
       "      <th></th>\n",
       "      <th>TYPE</th>\n",
       "      <th>METRIC</th>\n",
       "      <th>TAG</th>\n",
       "    </tr>\n",
       "  </thead>\n",
       "  <tbody>\n",
       "    <tr>\n",
       "      <th>0</th>\n",
       "      <td>AUROC</td>\n",
       "      <td>0.791667</td>\n",
       "      <td>ATTN</td>\n",
       "    </tr>\n",
       "    <tr>\n",
       "      <th>1</th>\n",
       "      <td>AUPRC</td>\n",
       "      <td>1.000000</td>\n",
       "      <td>ATTN</td>\n",
       "    </tr>\n",
       "    <tr>\n",
       "      <th>2</th>\n",
       "      <td>AUROC</td>\n",
       "      <td>0.800000</td>\n",
       "      <td>ATTN</td>\n",
       "    </tr>\n",
       "    <tr>\n",
       "      <th>3</th>\n",
       "      <td>AUPRC</td>\n",
       "      <td>0.803571</td>\n",
       "      <td>ATTN</td>\n",
       "    </tr>\n",
       "    <tr>\n",
       "      <th>4</th>\n",
       "      <td>AUROC</td>\n",
       "      <td>1.000000</td>\n",
       "      <td>ATTN</td>\n",
       "    </tr>\n",
       "    <tr>\n",
       "      <th>...</th>\n",
       "      <td>...</td>\n",
       "      <td>...</td>\n",
       "      <td>...</td>\n",
       "    </tr>\n",
       "    <tr>\n",
       "      <th>595</th>\n",
       "      <td>AUPRC</td>\n",
       "      <td>0.778571</td>\n",
       "      <td>CLINICAL</td>\n",
       "    </tr>\n",
       "    <tr>\n",
       "      <th>596</th>\n",
       "      <td>AUROC</td>\n",
       "      <td>0.583333</td>\n",
       "      <td>CLINICAL</td>\n",
       "    </tr>\n",
       "    <tr>\n",
       "      <th>597</th>\n",
       "      <td>AUPRC</td>\n",
       "      <td>0.758333</td>\n",
       "      <td>CLINICAL</td>\n",
       "    </tr>\n",
       "    <tr>\n",
       "      <th>598</th>\n",
       "      <td>AUROC</td>\n",
       "      <td>0.800000</td>\n",
       "      <td>CLINICAL</td>\n",
       "    </tr>\n",
       "    <tr>\n",
       "      <th>599</th>\n",
       "      <td>AUPRC</td>\n",
       "      <td>0.830833</td>\n",
       "      <td>CLINICAL</td>\n",
       "    </tr>\n",
       "  </tbody>\n",
       "</table>\n",
       "<p>600 rows × 3 columns</p>\n",
       "</div>"
      ],
      "text/plain": [
       "      TYPE    METRIC       TAG\n",
       "0    AUROC  0.791667      ATTN\n",
       "1    AUPRC  1.000000      ATTN\n",
       "2    AUROC  0.800000      ATTN\n",
       "3    AUPRC  0.803571      ATTN\n",
       "4    AUROC  1.000000      ATTN\n",
       "..     ...       ...       ...\n",
       "595  AUPRC  0.778571  CLINICAL\n",
       "596  AUROC  0.583333  CLINICAL\n",
       "597  AUPRC  0.758333  CLINICAL\n",
       "598  AUROC  0.800000  CLINICAL\n",
       "599  AUPRC  0.830833  CLINICAL\n",
       "\n",
       "[600 rows x 3 columns]"
      ]
     },
     "execution_count": 69,
     "metadata": {},
     "output_type": "execute_result"
    }
   ],
   "source": [
    "pd.read_csv(\"data.csv\",)"
   ]
  },
  {
   "cell_type": "code",
   "execution_count": 54,
   "metadata": {},
   "outputs": [
    {
     "data": {
      "text/plain": [
       "METRIC    0.918026\n",
       "dtype: float64"
      ]
     },
     "execution_count": 54,
     "metadata": {},
     "output_type": "execute_result"
    }
   ],
   "source": [
    "df.query(\"TAG == 'ATTN' & TYPE == 'AUPRC'\").mean()"
   ]
  },
  {
   "cell_type": "code",
   "execution_count": 55,
   "metadata": {},
   "outputs": [
    {
     "data": {
      "text/plain": [
       "METRIC    0.808654\n",
       "dtype: float64"
      ]
     },
     "execution_count": 55,
     "metadata": {},
     "output_type": "execute_result"
    }
   ],
   "source": [
    "df.query(\"TAG == 'ATTN' & TYPE == 'AUROC'\").mean()"
   ]
  },
  {
   "cell_type": "code",
   "execution_count": 63,
   "metadata": {},
   "outputs": [
    {
     "data": {
      "text/plain": [
       "<AxesSubplot:xlabel='TAG', ylabel='METRIC'>"
      ]
     },
     "execution_count": 63,
     "metadata": {},
     "output_type": "execute_result"
    },
    {
     "data": {
      "image/png": "[encoded data removed]",
      "text/plain": [
       "<Figure size 432x288 with 1 Axes>"
      ]
     },
     "metadata": {
      "needs_background": "light"
     },
     "output_type": "display_data"
    }
   ],
   "source": [
    "sns.violinplot(\n",
    "    x=\"TAG\", y=\"METRIC\", \n",
    "    hue=\"TYPE\", split=True,\n",
    "    data=df\n",
    ")"
   ]
  },
  {
   "cell_type": "code",
   "execution_count": 3,
   "metadata": {},
   "outputs": [
    {
     "data": {
      "text/plain": [
       "<AxesSubplot:>"
      ]
     },
     "execution_count": 3,
     "metadata": {},
     "output_type": "execute_result"
    },
    {
     "data": {
      "image/png": "[encoded data removed]",
      "text/plain": [
       "<Figure size 432x288 with 1 Axes>"
      ]
     },
     "metadata": {
      "needs_background": "light"
     },
     "output_type": "display_data"
    }
   ],
   "source": [
    "sns.violinplot(x=metrics)"
   ]
  }
 ],
 "metadata": {
  "interpreter": {
   "hash": "759da0c3a377cf24af056bfd6ee0d23605eb0b3dffbb1559eefae0959cc4e420"
  },
  "kernelspec": {
   "display_name": "Python 3.8.11 64-bit ('meta': conda)",
   "language": "python",
   "name": "python3"
  },
  "language_info": {
   "codemirror_mode": {
    "name": "ipython",
    "version": 3
   },
   "file_extension": ".py",
   "mimetype": "text/x-python",
   "name": "python",
   "nbconvert_exporter": "python",
   "pygments_lexer": "ipython3",
   "version": "3.8.11"
  },
  "orig_nbformat": 4
 },
 "nbformat": 4,
 "nbformat_minor": 2
}
